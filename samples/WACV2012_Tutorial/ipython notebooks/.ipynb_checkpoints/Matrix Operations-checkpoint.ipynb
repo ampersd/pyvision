{
 "cells": [
  {
   "cell_type": "markdown",
   "metadata": {},
   "source": [
    "Matrix Operations Demonstration\n",
    "===============================\n",
    "With the iPython notebook and pylab support, we have a very nice interactive shell for scientific computing.\n",
    "\n",
    "The ipython **notebook** lets you mix rich text including equations, computation, and graphics into a single working document. You can easily revise\n",
    "computational steps without having to re-run an entire script. Notebooks can be saved and reloaded, printed,\n",
    "and accessed remotely.\n",
    "\n",
    "Example equation: `$X = \\sum_{i=1}^{n}i^2$` produces: $X = \\sum_{i=1}^{n}i^2$\n",
    "\n",
    "**Pylab** is the name given to a common collection of python scientific computation and plotting libraries,\n",
    "imported into a common namespace to be more user friendly when used interactively. Pylab imports numpy and\n",
    "matplotlib, a MATLAB-like plotting library.\n",
    "\n",
    "Invoked via the command line as: `ipython notebook --pylab inline`\n",
    "\n",
    "Rich text is provided using the \"markdown\" syntax.\n",
    "For information on markdown, see http://en.wikipedia.org/wiki/Markdown."
   ]
  },
  {
   "cell_type": "code",
   "execution_count": 4,
   "metadata": {
    "collapsed": false
   },
   "outputs": [
    {
     "name": "stdout",
     "output_type": "stream",
     "text": [
      "A= [[ 0.  0.  0.  0.]\n",
      " [ 0.  0.  0.  0.]\n",
      " [ 0.  0.  0.  0.]\n",
      " [ 0.  0.  0.  0.]] \n",
      "I= [[ 1.  0.  0.  0.]\n",
      " [ 0.  1.  0.  0.]\n",
      " [ 0.  0.  1.  0.]\n",
      " [ 0.  0.  0.  1.]]\n"
     ]
    }
   ],
   "source": [
    "import numpy as np\n",
    "A = np.zeros((4,4))\n",
    "I = np.eye(4)\n",
    "print \"A=\",A, \"\\nI=\", I"
   ]
  },
  {
   "cell_type": "markdown",
   "metadata": {},
   "source": [
    "When using pylab, many common MATLAB-like functions exist in our default namespace.\n",
    "A good resource for those coming to python from MATLAB is\n",
    "[http://www.scipy.org/NumPy_for_Matlab_Users](http://www.scipy.org/NumPy_for_Matlab_Users \"NumPy for MATLAB Users\")."
   ]
  },
  {
   "cell_type": "code",
   "execution_count": 11,
   "metadata": {
    "collapsed": false
   },
   "outputs": [
    {
     "data": {
      "text/plain": [
       "array([[ 0.26093821, -1.1727966 , -0.18673477,  1.27503219],\n",
       "       [-1.25667849, -0.39022946, -0.40865499,  1.09571994],\n",
       "       [ 0.27904714, -1.44133654,  0.33554339,  0.53809252],\n",
       "       [ 0.90858641,  1.41111929, -0.73786577,  1.6458657 ]])"
      ]
     },
     "execution_count": 11,
     "metadata": {},
     "output_type": "execute_result"
    }
   ],
   "source": [
    "from numpy.random import randn\n",
    "N = randn(4,4)\n",
    "N"
   ]
  },
  {
   "cell_type": "markdown",
   "metadata": {},
   "source": [
    "Note the data type is a numpy multidimensional array. </br>\n",
    "Addition and scalar multiplication on arrays work as expected."
   ]
  },
  {
   "cell_type": "code",
   "execution_count": 12,
   "metadata": {
    "collapsed": false
   },
   "outputs": [
    {
     "data": {
      "text/plain": [
       "array([[ 4.26093821, -1.1727966 , -0.18673477,  1.27503219],\n",
       "       [-1.25667849,  3.60977054, -0.40865499,  1.09571994],\n",
       "       [ 0.27904714, -1.44133654,  4.33554339,  0.53809252],\n",
       "       [ 0.90858641,  1.41111929, -0.73786577,  5.6458657 ]])"
      ]
     },
     "execution_count": 12,
     "metadata": {},
     "output_type": "execute_result"
    }
   ],
   "source": [
    "N+4*I"
   ]
  },
  {
   "cell_type": "markdown",
   "metadata": {},
   "source": [
    "The * operator between **arrays** performs component-wise multiplication.\n",
    "For matrix multiplication, use `dot(X,Y)` instead."
   ]
  },
  {
   "cell_type": "code",
   "execution_count": 14,
   "metadata": {
    "collapsed": false
   },
   "outputs": [
    {
     "name": "stdout",
     "output_type": "stream",
     "text": [
      "[[ 0.26093821 -0.         -0.          0.        ]\n",
      " [-0.         -0.39022946 -0.          0.        ]\n",
      " [ 0.         -0.          0.33554339  0.        ]\n",
      " [ 0.          0.         -0.          1.6458657 ]]\n",
      "\n",
      "[[ 0.26093821 -1.1727966  -0.18673477  1.27503219]\n",
      " [-1.25667849 -0.39022946 -0.40865499  1.09571994]\n",
      " [ 0.27904714 -1.44133654  0.33554339  0.53809252]\n",
      " [ 0.90858641  1.41111929 -0.73786577  1.6458657 ]]\n"
     ]
    }
   ],
   "source": [
    "print N*I #array component mult.\n",
    "print \n",
    "print np.dot(N,I) #matrix mult. using arrays"
   ]
  },
  {
   "cell_type": "markdown",
   "metadata": {},
   "source": [
    "There is also a **matrix** data type. </br>\n",
    "The multiplication operator * performs matrix multiplication,\n",
    "and the multiply(X,Y) performs component-wise multiplication."
   ]
  },
  {
   "cell_type": "code",
   "execution_count": 16,
   "metadata": {
    "collapsed": false
   },
   "outputs": [
    {
     "name": "stdout",
     "output_type": "stream",
     "text": [
      "[[ 0.26093821 -1.1727966  -0.18673477  1.27503219]\n",
      " [-1.25667849 -0.39022946 -0.40865499  1.09571994]\n",
      " [ 0.27904714 -1.44133654  0.33554339  0.53809252]\n",
      " [ 0.90858641  1.41111929 -0.73786577  1.6458657 ]]\n",
      "\n",
      "[[ 0.26093821 -0.         -0.          0.        ]\n",
      " [-0.         -0.39022946 -0.          0.        ]\n",
      " [ 0.         -0.          0.33554339  0.        ]\n",
      " [ 0.          0.         -0.          1.6458657 ]]\n"
     ]
    }
   ],
   "source": [
    "N2 = np.matrix(N)\n",
    "I2 = np.matrix(I)\n",
    "print N2 * I2 #matrix mult\n",
    "print\n",
    "print np.multiply(N2,I2) #component mult"
   ]
  },
  {
   "cell_type": "markdown",
   "metadata": {},
   "source": [
    "With PyLab, we can easily call the scipy linear algebra functions normally\n",
    "found in scipy.linalg package.</br> (See: http://docs.scipy.org/doc/scipy/reference/linalg.html)"
   ]
  },
  {
   "cell_type": "code",
   "execution_count": 18,
   "metadata": {
    "collapsed": false
   },
   "outputs": [
    {
     "name": "stdout",
     "output_type": "stream",
     "text": [
      "<type 'numpy.ndarray'> <type 'numpy.ndarray'>\n"
     ]
    }
   ],
   "source": [
    "from scipy.linalg import eig\n",
    "(evs, evecs) = eig(N) #if input is ndarray, output is too.\n",
    "(evs2, evecs2) = eig(N2)  #if input is matrix, output is matrix\n",
    "print type(evecs), type(evecs2)"
   ]
  },
  {
   "cell_type": "code",
   "execution_count": 19,
   "metadata": {
    "collapsed": true
   },
   "outputs": [],
   "source": [
    "#if not using pylab, do the following\n",
    "import scipy.linalg as LA \n",
    "(evs, evecs) = LA.eig(N)"
   ]
  },
  {
   "cell_type": "markdown",
   "metadata": {},
   "source": [
    "We can do some easy MATLAB-like plotting too!"
   ]
  },
  {
   "cell_type": "code",
   "execution_count": 22,
   "metadata": {
    "collapsed": false
   },
   "outputs": [
    {
     "data": {
      "text/plain": [
       "(array([   4.,   22.,   86.,  180.,  303.,  212.,  126.,   53.,   11.,    3.]),\n",
       " array([-3.18365567, -2.51063878, -1.8376219 , -1.16460502, -0.49158813,\n",
       "         0.18142875,  0.85444564,  1.52746252,  2.20047941,  2.87349629,\n",
       "         3.54651318]),\n",
       " <a list of 10 Patch objects>)"
      ]
     },
     "execution_count": 22,
     "metadata": {},
     "output_type": "execute_result"
    },
    {
     "data": {
      "image/png": "[encoded data removed]",
      "text/plain": [
       "<matplotlib.figure.Figure at 0x78407f0>"
      ]
     },
     "metadata": {},
     "output_type": "display_data"
    }
   ],
   "source": [
    "%matplotlib inline\n",
    "import matplotlib.pyplot as ppt\n",
    "X = randn(1000)\n",
    "ppt.hist(X)"
   ]
  },
  {
   "cell_type": "code",
   "execution_count": 24,
   "metadata": {
    "collapsed": false
   },
   "outputs": [
    {
     "data": {
      "text/plain": [
       "[<matplotlib.lines.Line2D at 0x80d2b38>]"
      ]
     },
     "execution_count": 24,
     "metadata": {},
     "output_type": "execute_result"
    },
    {
     "data": {
      "image/png": "[encoded data removed]",
      "text/plain": [
       "<matplotlib.figure.Figure at 0x7840320>"
      ]
     },
     "metadata": {},
     "output_type": "display_data"
    }
   ],
   "source": [
    "Y = 3*X\n",
    "ppt.plot(X,Y)"
   ]
  },
  {
   "cell_type": "code",
   "execution_count": null,
   "metadata": {
    "collapsed": true
   },
   "outputs": [],
   "source": []
  }
 ],
 "metadata": {
  "kernelspec": {
   "display_name": "Python 2",
   "language": "python",
   "name": "python2"
  },
  "language_info": {
   "codemirror_mode": {
    "name": "ipython",
    "version": 2
   },
   "file_extension": ".py",
   "mimetype": "text/x-python",
   "name": "python",
   "nbconvert_exporter": "python",
   "pygments_lexer": "ipython2",
   "version": "2.7.11"
  }
 },
 "nbformat": 4,
 "nbformat_minor": 0
}
